{
  "nbformat": 4,
  "nbformat_minor": 0,
  "metadata": {
    "kernelspec": {
      "name": "python3",
      "display_name": "Python 3"
    },
    "language_info": {
      "codemirror_mode": {
        "name": "ipython",
        "version": 3
      },
      "file_extension": ".py",
      "mimetype": "text/x-python",
      "name": "python",
      "nbconvert_exporter": "python",
      "pygments_lexer": "ipython3",
      "version": "3.7.6"
    },
    "colab": {
      "name": "PCA.ipynb",
      "provenance": [],
      "collapsed_sections": []
    },
    "accelerator": "GPU"
  },
  "cells": [
    {
      "cell_type": "markdown",
      "metadata": {
        "id": "VrMWkdgoAfQc",
        "colab_type": "text"
      },
      "source": [
        "# Compressor Analytics Dataset\n",
        "\n",
        "Below are a few things to get you started with the Compressor Analytics dataset for AIHack! For more information see [here](https://drive.google.com/file/d/1ojYVHpabfkNz45nQqQLenyoaQbCmWdo4/view?usp=sharing)."
      ]
    },
    {
      "cell_type": "code",
      "metadata": {
        "id": "DHx-36T5AfQr",
        "colab_type": "code",
        "outputId": "95ca180d-985d-43b4-c90c-2f3db1c81ec1",
        "colab": {
          "base_uri": "https://localhost:8080/",
          "height": 85
        }
      },
      "source": [
        "# Download data - please only run this once\n",
        "import urllib.request\n",
        "import zipfile\n",
        "import os\n",
        "\n",
        "print(\"Starting download ...\")\n",
        "urls = [\n",
        "    \"https://github.com/aihack20/shell_challenge/releases/download/data/clean_dataset.zip\",\n",
        "    \"https://github.com/aihack20/shell_challenge/releases/download/data/raw_dataset.zip\",\n",
        "]\n",
        "os.makedirs(\"shell_data\", exist_ok=True)\n",
        "for url in urls:\n",
        "    with urllib.request.urlopen(url) as src:\n",
        "        with open(\"tmp.zip\", \"wb\") as dest:\n",
        "            dest.write(src.read())\n",
        "    print(\"Unpacking archive ...\")\n",
        "    with zipfile.ZipFile(\"tmp.zip\") as f:\n",
        "        f.extractall(\"shell_data\")\n",
        "print(\"Done!\")"
      ],
      "execution_count": 0,
      "outputs": [
        {
          "output_type": "stream",
          "text": [
            "Starting download ...\n",
            "Unpacking archive ...\n",
            "Unpacking archive ...\n",
            "Done!\n"
          ],
          "name": "stdout"
        }
      ]
    },
    {
      "cell_type": "code",
      "metadata": {
        "id": "elhYEf-OAfRX",
        "colab_type": "code",
        "outputId": "f5b70108-4f74-44bd-c139-c74882346e57",
        "colab": {
          "base_uri": "https://localhost:8080/",
          "height": 187
        }
      },
      "source": [
        "%pip install pandas matplotlib"
      ],
      "execution_count": 0,
      "outputs": [
        {
          "output_type": "stream",
          "text": [
            "Requirement already satisfied: pandas in /usr/local/lib/python3.6/dist-packages (0.25.3)\n",
            "Requirement already satisfied: matplotlib in /usr/local/lib/python3.6/dist-packages (3.1.3)\n",
            "Requirement already satisfied: pytz>=2017.2 in /usr/local/lib/python3.6/dist-packages (from pandas) (2018.9)\n",
            "Requirement already satisfied: numpy>=1.13.3 in /usr/local/lib/python3.6/dist-packages (from pandas) (1.17.5)\n",
            "Requirement already satisfied: python-dateutil>=2.6.1 in /usr/local/lib/python3.6/dist-packages (from pandas) (2.6.1)\n",
            "Requirement already satisfied: cycler>=0.10 in /usr/local/lib/python3.6/dist-packages (from matplotlib) (0.10.0)\n",
            "Requirement already satisfied: pyparsing!=2.0.4,!=2.1.2,!=2.1.6,>=2.0.1 in /usr/local/lib/python3.6/dist-packages (from matplotlib) (2.4.6)\n",
            "Requirement already satisfied: kiwisolver>=1.0.1 in /usr/local/lib/python3.6/dist-packages (from matplotlib) (1.1.0)\n",
            "Requirement already satisfied: six>=1.5 in /usr/local/lib/python3.6/dist-packages (from python-dateutil>=2.6.1->pandas) (1.12.0)\n",
            "Requirement already satisfied: setuptools in /usr/local/lib/python3.6/dist-packages (from kiwisolver>=1.0.1->matplotlib) (45.1.0)\n"
          ],
          "name": "stdout"
        }
      ]
    },
    {
      "cell_type": "code",
      "metadata": {
        "id": "qMj0LH1ZAfR6",
        "colab_type": "code",
        "outputId": "026081a0-af0d-4d35-b943-d124d07597ac",
        "colab": {
          "base_uri": "https://localhost:8080/",
          "height": 71
        }
      },
      "source": [
        "# Load the data (will take a short while)\n",
        "clean_data = pd.read_csv(\"shell_data/clean_dataset.csv\")\n",
        "raw_data = pd.read_csv(\"shell_data/raw_dataset.csv\")"
      ],
      "execution_count": 0,
      "outputs": [
        {
          "output_type": "stream",
          "text": [
            "/usr/local/lib/python3.6/dist-packages/IPython/core/interactiveshell.py:2718: DtypeWarning: Columns (0,1,2,3,4,5,6,7,8,9,10,11,12,13,14,15,16,17,18,19,20,21,22,23,24,25,26,27,28,29,30,31,32,33,34,35,36,37,38,39,40,41,42,43,44,45,46,47,48,49,50,51,52,53,54,55,56,57,58,59,60,61,62,63,64,65,66,67,68,69,70,71,72,73,74,75,76,77,78,79,80,81,82,83,84,85,86,87,88,89,90,91,92,93,94,95,96,97,98,99,100,101,102,103,104,105,106,107,108,109,110,111,112,113,114,115,116,117,118,119,120,121,122,123,124,125,126,127,128,129,130,131,132,133,134,135,136,137,138,139,140,141,142,143,144,145,146,147,148,149,150,151,152,153,154,155,156,157,158,159,160,161,162,163,164,165,166,167,168,169,170,171,172,173,174,175,176,177,178,179,180,181,182,183,184,185,186,187,188,189,190,191,192,193,194,195,196,197,198,199,200,201,202,203,204,205,206,207,208,209,210,211,212,213,214,215,216,217,218,219,220,221,222,223,224,225,226,227,228,229,230,231,232,233,234,235,236,237,239,240,241,242,243,244,245,246,247,248,249,250,251,252,253,254,255,256,257,258,259,260,261,262,263,264,265,266,267,268,269,270,271,272,273,274,275,276,277,278,279,280,281,282,283,284,285,286,287,288,289,290,291,292,293,294,295,296,297,298,299,300,301,302,303,304,305,306,307,308,309,310,311,312,313,314,315,316,317,318,319,320,321,322,323,324,325,326,327,328,329,330,331,332,333,334,335,336,337,338,339,340,341,342,343,344,345,346,347,348,349,350,351,352,353,354,355,356,357,358,359,360,361,362,363,364,365,366,367,368,369,370,371,372,373,374,375,376,377,378,379,380,381,382,383,384,385,386,387,388,389,390,391,392,393,394,395,396,397,398,399,400,401,402,403,404) have mixed types. Specify dtype option on import or set low_memory=False.\n",
            "  interactivity=interactivity, compiler=compiler, result=result)\n"
          ],
          "name": "stderr"
        }
      ]
    },
    {
      "cell_type": "markdown",
      "metadata": {
        "id": "r1IL-p3hAfSH",
        "colab_type": "text"
      },
      "source": [
        "## Your Hack ..."
      ]
    },
    {
      "cell_type": "code",
      "metadata": {
        "id": "hCq__mjfAfSJ",
        "colab_type": "code",
        "colab": {}
      },
      "source": [
        "np.shape(clean_data)\n",
        "import pandas as pd\n",
        "from scipy import stats\n",
        "from statsmodels.tsa.stattools import grangercausalitytests, adfuller\n",
        "import numpy as np\n",
        "from pandas.plotting import register_matplotlib_converters\n",
        "import matplotlib.pyplot as plt\n",
        "from sklearn.decomposition import PCA\n",
        "from sklearn.preprocessing import normalize\n",
        "from sklearn.preprocessing import RobustScaler"
      ],
      "execution_count": 0,
      "outputs": []
    },
    {
      "cell_type": "code",
      "metadata": {
        "id": "vN29jjYhLfb2",
        "colab_type": "code",
        "outputId": "5b3d42fd-5096-43a8-f7b4-9ed84d83b873",
        "colab": {
          "base_uri": "https://localhost:8080/",
          "height": 282
        }
      },
      "source": [
        "clean_data = pd.read_csv(\"shell_data/clean_dataset.csv\")\n",
        "clean_data.iloc[:, 191].plot()"
      ],
      "execution_count": 0,
      "outputs": [
        {
          "output_type": "execute_result",
          "data": {
            "text/plain": [
              "<matplotlib.axes._subplots.AxesSubplot at 0x7fb6bb814f28>"
            ]
          },
          "metadata": {
            "tags": []
          },
          "execution_count": 290
        },
        {
          "output_type": "display_data",
          "data": {
            "image/png": "[encoded data removed]",
            "text/plain": [
              "<Figure size 432x288 with 1 Axes>"
            ]
          },
          "metadata": {
            "tags": []
          }
        }
      ]
    },
    {
      "cell_type": "code",
      "metadata": {
        "id": "adIQvn6_2X4c",
        "colab_type": "code",
        "outputId": "2971bb17-3c9f-44db-dc27-3cb5338f00fc",
        "colab": {
          "base_uri": "https://localhost:8080/",
          "height": 238
        }
      },
      "source": [
        "clean_data = pd.read_csv(\"shell_data/clean_dataset.csv\")\n",
        "del clean_data['original_index']\n",
        "clean_tranformer = RobustScaler().fit(clean_data.dropna())\n",
        "clean_data = clean_tranformer.transform(clean_data.dropna())\n",
        "# clean_data = normalize(clean_data.dropna(), norm=\"l2\")\n",
        "np.shape(clean_data)\n",
        "clean_data"
      ],
      "execution_count": 0,
      "outputs": [
        {
          "output_type": "execute_result",
          "data": {
            "text/plain": [
              "array([[-0.25180081,  1.00605854,  1.00006017, ...,  1.479719  ,\n",
              "         1.72276952,  1.24289256],\n",
              "       [-0.25655481,  1.04416187,  1.02320459, ...,  1.50161246,\n",
              "         1.73475671,  1.26830981],\n",
              "       [-0.24304426,  0.99620465,  0.97900655, ...,  1.47551703,\n",
              "         1.72137862,  1.27572531],\n",
              "       ...,\n",
              "       [ 0.55549676,  1.03095578,  1.01780521, ...,  1.78486915,\n",
              "        -1.15651777, -1.13141949],\n",
              "       [ 0.55616179,  1.05348342,  1.01718488, ...,  1.78709723,\n",
              "        -1.15226673, -1.13141949],\n",
              "       [ 0.54327081,  1.04051399,  1.01407245, ...,  1.7776645 ,\n",
              "        -1.15751806, -1.13141949]])"
            ]
          },
          "metadata": {
            "tags": []
          },
          "execution_count": 273
        }
      ]
    },
    {
      "cell_type": "code",
      "metadata": {
        "id": "w8DHy9lkdbAu",
        "colab_type": "code",
        "outputId": "25b79c86-8dd2-4e0b-b0a5-44e41868cbfc",
        "colab": {
          "base_uri": "https://localhost:8080/",
          "height": 442
        }
      },
      "source": [
        "anomaly_index_original = [10634, 36136, 57280, 57618, 60545, 63144, 118665, 128524, 131118]\n",
        "new_clean_data = pd.read_csv(\"shell_data/clean_dataset.csv\")\n",
        "is_anomaly = new_clean_data[new_clean_data.original_index.isin(anomaly_index_original)]\n",
        "print(is_anomaly)\n",
        "clean_data_bis = is_anomaly\n",
        "del clean_data_bis['original_index']\n",
        "clean_data_bis = clean_tranformer.transform(clean_data_bis.dropna())\n",
        "# clean_data_bis = normalize(clean_data_bis.dropna(), norm=\"l2\")\n",
        "print(clean_data_bis)"
      ],
      "execution_count": 0,
      "outputs": [
        {
          "output_type": "stream",
          "text": [
            "        Temperature Indicating 0  ...  original_index\n",
            "9792                   76.871659  ...           10634\n",
            "32303                  79.663810  ...           36136\n",
            "47631                  68.033305  ...           57280\n",
            "47848                  73.078974  ...           57618\n",
            "50490                  78.592864  ...           60545\n",
            "52689                  73.062356  ...           63144\n",
            "95843                  94.739119  ...          118665\n",
            "103531                 80.590390  ...          128524\n",
            "105924                102.574190  ...          131118\n",
            "\n",
            "[9 rows x 363 columns]\n",
            "[[-2.55960385 -3.1485488  -5.19043803 ...  2.36646526  0.66213717\n",
            "   2.09341382]\n",
            " [-2.2232097  -3.09968602 -3.45438563 ... -0.43608357 -0.62984411\n",
            "   8.84105109]\n",
            " [-3.62443556  1.36914658  1.66071375 ...  1.04129085  0.70625739\n",
            "   0.14727796]\n",
            " ...\n",
            " [-0.40695905 -0.35703947 -0.38942518 ... -0.88797602 -0.47344146\n",
            "  -0.56671545]\n",
            " [-2.11157668 -2.47251416 -2.66519017 ...  0.15431478 -1.16027156\n",
            "  -1.13141949]\n",
            " [ 0.53699857  1.03498755  0.98592274 ...  1.09238237 -1.161515\n",
            "  -1.10308384]]\n"
          ],
          "name": "stdout"
        }
      ]
    },
    {
      "cell_type": "code",
      "metadata": {
        "id": "qXEss9xKM-2W",
        "colab_type": "code",
        "outputId": "e86ed0fc-a0ff-43a4-b3ed-99b7f1832443",
        "colab": {
          "base_uri": "https://localhost:8080/",
          "height": 51
        }
      },
      "source": [
        "# del clean_data['original_index']\n",
        "pca = PCA()\n",
        "pca.fit(clean_data)"
      ],
      "execution_count": 0,
      "outputs": [
        {
          "output_type": "execute_result",
          "data": {
            "text/plain": [
              "PCA(copy=True, iterated_power='auto', n_components=None, random_state=None,\n",
              "    svd_solver='auto', tol=0.0, whiten=False)"
            ]
          },
          "metadata": {
            "tags": []
          },
          "execution_count": 254
        }
      ]
    },
    {
      "cell_type": "code",
      "metadata": {
        "id": "wb9KSo9fOy3I",
        "colab_type": "code",
        "outputId": "d4b2a8fd-f1cd-4cf9-8c32-b3469390f2b7",
        "colab": {
          "base_uri": "https://localhost:8080/",
          "height": 34
        }
      },
      "source": [
        "print(np.shape(pca.components_))"
      ],
      "execution_count": 0,
      "outputs": [
        {
          "output_type": "stream",
          "text": [
            "(362, 362)\n"
          ],
          "name": "stdout"
        }
      ]
    },
    {
      "cell_type": "code",
      "metadata": {
        "id": "1YqkcKx7T7rj",
        "colab_type": "code",
        "colab": {}
      },
      "source": [
        "pca_clean_data = np.dot(pca.components_[0:2], clean_data.T)\n",
        "pca_clean_data_bis = np.dot(pca.components_[0:2], clean_data_bis.T)"
      ],
      "execution_count": 0,
      "outputs": []
    },
    {
      "cell_type": "code",
      "metadata": {
        "id": "k_0M_dYAKbKL",
        "colab_type": "code",
        "outputId": "de03bdbc-7976-4124-b4e9-4c68973da79f",
        "colab": {
          "base_uri": "https://localhost:8080/",
          "height": 34
        }
      },
      "source": [
        "pca.components_[2].max()/np.sum(pca.components_[2])"
      ],
      "execution_count": 0,
      "outputs": [
        {
          "output_type": "execute_result",
          "data": {
            "text/plain": [
              "0.42475008433555905"
            ]
          },
          "metadata": {
            "tags": []
          },
          "execution_count": 287
        }
      ]
    },
    {
      "cell_type": "code",
      "metadata": {
        "id": "RxASKubcLMa5",
        "colab_type": "code",
        "outputId": "407b5eb5-4104-4e3e-b234-e47372785060",
        "colab": {
          "base_uri": "https://localhost:8080/",
          "height": 34
        }
      },
      "source": [
        "np.argmax(pca.components_[2])"
      ],
      "execution_count": 0,
      "outputs": [
        {
          "output_type": "execute_result",
          "data": {
            "text/plain": [
              "213"
            ]
          },
          "metadata": {
            "tags": []
          },
          "execution_count": 288
        }
      ]
    },
    {
      "cell_type": "code",
      "metadata": {
        "id": "-0PFRcqubcAi",
        "colab_type": "code",
        "outputId": "bf558795-4469-4764-88c6-64ebdb1e0e1d",
        "colab": {
          "base_uri": "https://localhost:8080/",
          "height": 457
        }
      },
      "source": [
        "plt.figure(figsize=(10,7))\n",
        "with plt.style.context('seaborn-darkgrid'):\n",
        "  plt.title(\"Clean Data Mapped on the Two Most Significant Principal Components\", fontsize=15)\n",
        "  plt.xlabel(\"Component 1\")\n",
        "  plt.ylabel(\"Component 2\")\n",
        "  plt.scatter(pca_clean_data[0], pca_clean_data[1], label=\"All Clean Data\")\n",
        "  plt.scatter(pca_clean_data_bis[0], pca_clean_data_bis[1], label=\"Anomaly Data Points\")\n",
        "  plt.legend()\n",
        "plt.show()"
      ],
      "execution_count": 0,
      "outputs": [
        {
          "output_type": "display_data",
          "data": {
            "image/png": "[encoded data removed]",
            "text/plain": [
              "<Figure size 720x504 with 1 Axes>"
            ]
          },
          "metadata": {
            "tags": []
          }
        }
      ]
    },
    {
      "cell_type": "code",
      "metadata": {
        "id": "HkBwiVODZzjG",
        "colab_type": "code",
        "outputId": "6aeb0b73-573e-4987-fd1b-acc2edd4ff1d",
        "colab": {
          "base_uri": "https://localhost:8080/",
          "height": 460
        }
      },
      "source": [
        "plt.figure(figsize=(10,7))\n",
        "with plt.style.context('seaborn-darkgrid'): \n",
        "  plt.title(\"Explained Variance - PCA\", fontsize=20)\n",
        "  plt.xlabel(\"Principal Component\")\n",
        "  plt.ylabel(\"Explained Variance\")\n",
        "  plt.plot(pca.explained_variance_)\n",
        "plt.show()"
      ],
      "execution_count": 0,
      "outputs": [
        {
          "output_type": "display_data",
          "data": {
            "image/png": "[encoded data removed]",
            "text/plain": [
              "<Figure size 720x504 with 1 Axes>"
            ]
          },
          "metadata": {
            "tags": []
          }
        }
      ]
    },
    {
      "cell_type": "code",
      "metadata": {
        "id": "1lYnhxcANc5B",
        "colab_type": "code",
        "colab": {}
      },
      "source": [
        "sum = 0\n",
        "cumulative_sum_singular_values = []\n",
        "for i in range(len(pca.singular_values_)):\n",
        "  sum += pca.singular_values_[i]\n",
        "  cumulative_sum_singular_values.append(sum)\n",
        "cumulative_sum_singular_values = cumulative_sum_singular_values/cumulative_sum_singular_values[-1]*100"
      ],
      "execution_count": 0,
      "outputs": []
    },
    {
      "cell_type": "code",
      "metadata": {
        "id": "1v8fBAc-Ph0y",
        "colab_type": "code",
        "outputId": "453ec130-df8b-4db2-e3eb-42daa2157b4f",
        "colab": {
          "base_uri": "https://localhost:8080/",
          "height": 34
        }
      },
      "source": [
        "index = -1\n",
        "for i in range(1, len(cumulative_sum_singular_values)):\n",
        "  if (cumulative_sum_singular_values[i] > cumulative_sum_singular_values[-1]*0.95):\n",
        "    index = i\n",
        "    break\n",
        "print(index)"
      ],
      "execution_count": 0,
      "outputs": [
        {
          "output_type": "stream",
          "text": [
            "73\n"
          ],
          "name": "stdout"
        }
      ]
    },
    {
      "cell_type": "code",
      "metadata": {
        "id": "kA18yQjVOkaO",
        "colab_type": "code",
        "outputId": "7e0122bf-031c-47db-f83e-66a71fba4bdf",
        "colab": {
          "base_uri": "https://localhost:8080/",
          "height": 34
        }
      },
      "source": [
        "cumulative_sum_singular_values[2]/cumulative_sum_singular_values[-1]*100"
      ],
      "execution_count": 0,
      "outputs": [
        {
          "output_type": "execute_result",
          "data": {
            "text/plain": [
              "64.13846392751412"
            ]
          },
          "metadata": {
            "tags": []
          },
          "execution_count": 293
        }
      ]
    },
    {
      "cell_type": "code",
      "metadata": {
        "id": "PdhiMEw3OiF_",
        "colab_type": "code",
        "outputId": "61cacbf7-993a-4614-884f-39080d5a43de",
        "colab": {
          "base_uri": "https://localhost:8080/",
          "height": 460
        }
      },
      "source": [
        "plt.figure(figsize=(10,7))\n",
        "with plt.style.context('seaborn-darkgrid'): \n",
        "  plt.title(\"Cumulative Sum of Singular Values - PCA\", fontsize=20)\n",
        "  plt.xlabel(\"Number of Singular Values\")\n",
        "  plt.ylabel(\"Cumulative Sum / %\")\n",
        "  plt.plot(cumulative_sum_singular_values)\n",
        "plt.show()"
      ],
      "execution_count": 0,
      "outputs": [
        {
          "output_type": "display_data",
          "data": {
            "image/png": "[encoded data removed]",
            "text/plain": [
              "<Figure size 720x504 with 1 Axes>"
            ]
          },
          "metadata": {
            "tags": []
          }
        }
      ]
    }
  ]
}