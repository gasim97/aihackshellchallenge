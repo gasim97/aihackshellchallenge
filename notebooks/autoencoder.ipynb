{
 "cells": [
  {
   "cell_type": "code",
   "execution_count": 471,
   "metadata": {},
   "outputs": [],
   "source": [
    "import tensorflow as tf\n",
    "import tensorflow_probability as tfp\n",
    "\n",
    "import pandas as pd\n",
    "import numpy as np\n",
    "import matplotlib.pyplot as plt\n",
    "import matplotlib\n",
    "\n",
    "from sklearn.cluster import KMeans\n",
    "from sklearn.preprocessing import StandardScaler, MinMaxScaler, RobustScaler\n",
    "from sklearn.metrics import mean_squared_error\n",
    "from sklearn import mixture\n",
    "from matplotlib.colors import LogNorm\n",
    "\n",
    "matplotlib.rcParams['text.usetex'] = True"
   ]
  },
  {
   "cell_type": "markdown",
   "metadata": {},
   "source": [
    "#### Autoencoder"
   ]
  },
  {
   "cell_type": "code",
   "execution_count": 71,
   "metadata": {
    "jupyter": {
     "source_hidden": true
    }
   },
   "outputs": [],
   "source": [
    "data = pd.read_csv('data/clean_dataset.csv').set_index('original_index')\n",
    "original_index = data.index\n",
    "\n",
    "data = data.diff().ffill().dropna()\n",
    "\n",
    "anomalies_list = np.array([10634, 36136, 57280, 57618, 60545, 63144, 118665, 128524, 131118])\n",
    "anomalies = pd.DataFrame(np.ones(len(anomalies_list)), index=anomalies_list, columns=['Anomaly'])"
   ]
  },
  {
   "cell_type": "code",
   "execution_count": 84,
   "metadata": {
    "jupyter": {
     "source_hidden": true
    }
   },
   "outputs": [],
   "source": [
    "TRAIN_SPLIT = 0.80\n",
    "VALIDATION_SPLIT = 0.80\n",
    "data_length = len(data)\n",
    "\n",
    "train_ix = int(data_length*TRAIN_SPLIT)\n",
    "val_ix = int(train_ix*VALIDATION_SPLIT)\n",
    "\n",
    "X_train = data[:val_ix].values\n",
    "X_test = data[train_ix:].values\n",
    "X_val = data[val_ix:train_ix].values\n",
    "\n",
    "scaler = StandardScaler()\n",
    "\n",
    "X_train = scaler.fit_transform(X_train)\n",
    "X_test = scaler.transform(X_test)\n",
    "X_val = scaler.transform(X_val)\n",
    "\n",
    "X_train = pd.DataFrame(X_train, index=original_index[:val_ix])\n",
    "X_train = X_train.drop([10634, 36136, 57280, 57618, 60545, 63144])\n",
    "X_train = X_train.values"
   ]
  },
  {
   "cell_type": "code",
   "execution_count": 86,
   "metadata": {
    "jupyter": {
     "source_hidden": true
    }
   },
   "outputs": [],
   "source": [
    "LATENT_SIZE = 64\n",
    "HIDDEN_SIZE = 128\n",
    "FEATURE_NO = X_train.shape[1]\n",
    "\n",
    "encoder = tf.keras.Sequential()\n",
    "encoder.add(tf.keras.layers.Dense(FEATURE_NO, input_shape=(FEATURE_NO, ), activation='relu'))\n",
    "encoder.add(tf.keras.layers.Dense(HIDDEN_SIZE, activation='relu'))\n",
    "encoder.add(tf.keras.layers.Dense(LATENT_SIZE, activation='linear'))\n",
    "\n",
    "decoder = tf.keras.Sequential()\n",
    "decoder.add(tf.keras.layers.Dense(LATENT_SIZE, input_shape=(LATENT_SIZE, ), activation='relu'))\n",
    "decoder.add(tf.keras.layers.Dense(HIDDEN_SIZE, activation='relu'))\n",
    "decoder.add(tf.keras.layers.Dense(FEATURE_NO, activation='linear'))\n",
    "\n",
    "autoencoder = tf.keras.Model(inputs=encoder.inputs, outputs=decoder(encoder.outputs))\n",
    "autoencoder.compile(optimizer=tf.optimizers.Adam(), loss=tf.keras.losses.MeanAbsoluteError())"
   ]
  },
  {
   "cell_type": "code",
   "execution_count": 87,
   "metadata": {
    "collapsed": true,
    "jupyter": {
     "outputs_hidden": true,
     "source_hidden": true
    }
   },
   "outputs": [
    {
     "name": "stdout",
     "output_type": "stream",
     "text": [
      "Train on 68287 samples, validate on 17074 samples\n",
      "Epoch 1/100\n",
      "68287/68287 [==============================] - 1s 10us/sample - loss: 0.2264 - val_loss: 0.2137\n",
      "Epoch 2/100\n",
      "68287/68287 [==============================] - 0s 6us/sample - loss: 0.2071 - val_loss: 0.2047\n",
      "Epoch 3/100\n",
      "68287/68287 [==============================] - 0s 6us/sample - loss: 0.2036 - val_loss: 0.2023\n",
      "Epoch 4/100\n",
      "68287/68287 [==============================] - 0s 6us/sample - loss: 0.1999 - val_loss: 0.1994\n",
      "Epoch 5/100\n",
      "68287/68287 [==============================] - 0s 6us/sample - loss: 0.1971 - val_loss: 0.1964\n",
      "Epoch 6/100\n",
      "68287/68287 [==============================] - 0s 6us/sample - loss: 0.1922 - val_loss: 0.1917\n",
      "Epoch 7/100\n",
      "68287/68287 [==============================] - 0s 6us/sample - loss: 0.1892 - val_loss: 0.1906\n",
      "Epoch 8/100\n",
      "68287/68287 [==============================] - 0s 6us/sample - loss: 0.1871 - val_loss: 0.1863\n",
      "Epoch 9/100\n",
      "68287/68287 [==============================] - 0s 6us/sample - loss: 0.1825 - val_loss: 0.1833\n",
      "Epoch 10/100\n",
      "68287/68287 [==============================] - 0s 6us/sample - loss: 0.1799 - val_loss: 0.1811\n",
      "Epoch 11/100\n",
      "68287/68287 [==============================] - 0s 6us/sample - loss: 0.1784 - val_loss: 0.1800\n",
      "Epoch 12/100\n",
      "68287/68287 [==============================] - 0s 6us/sample - loss: 0.1792 - val_loss: 0.1792\n",
      "Epoch 13/100\n",
      "68287/68287 [==============================] - 0s 6us/sample - loss: 0.1775 - val_loss: 0.1793\n",
      "Epoch 14/100\n",
      "68287/68287 [==============================] - 0s 6us/sample - loss: 0.1767 - val_loss: 0.1774\n",
      "Epoch 15/100\n",
      "68287/68287 [==============================] - 0s 5us/sample - loss: 0.1761 - val_loss: 0.1773\n",
      "Epoch 16/100\n",
      "68287/68287 [==============================] - 0s 6us/sample - loss: 0.1756 - val_loss: 0.1767\n",
      "Epoch 17/100\n",
      "68287/68287 [==============================] - 0s 6us/sample - loss: 0.1751 - val_loss: 0.1765\n",
      "Epoch 18/100\n",
      "68287/68287 [==============================] - 0s 6us/sample - loss: 0.1741 - val_loss: 0.1760\n",
      "Epoch 19/100\n",
      "68287/68287 [==============================] - 0s 6us/sample - loss: 0.1741 - val_loss: 0.1748\n",
      "Epoch 20/100\n",
      "68287/68287 [==============================] - 0s 6us/sample - loss: 0.1737 - val_loss: 0.1745\n",
      "Epoch 21/100\n",
      "68287/68287 [==============================] - 0s 6us/sample - loss: 0.1727 - val_loss: 0.1738\n",
      "Epoch 22/100\n",
      "68287/68287 [==============================] - 0s 5us/sample - loss: 0.1717 - val_loss: 0.1738\n",
      "Epoch 23/100\n",
      "68287/68287 [==============================] - 0s 5us/sample - loss: 0.1719 - val_loss: 0.1740\n",
      "Epoch 24/100\n",
      "68287/68287 [==============================] - 0s 6us/sample - loss: 0.1714 - val_loss: 0.1735\n",
      "Epoch 25/100\n",
      "68287/68287 [==============================] - 0s 6us/sample - loss: 0.1715 - val_loss: 0.1727\n",
      "Epoch 26/100\n",
      "68287/68287 [==============================] - 0s 5us/sample - loss: 0.1705 - val_loss: 0.1717\n",
      "Epoch 27/100\n",
      "68287/68287 [==============================] - 0s 5us/sample - loss: 0.1701 - val_loss: 0.1717\n",
      "Epoch 28/100\n",
      "68287/68287 [==============================] - 0s 6us/sample - loss: 0.1693 - val_loss: 0.1709\n",
      "Epoch 29/100\n",
      "68287/68287 [==============================] - 0s 6us/sample - loss: 0.1687 - val_loss: 0.1706\n",
      "Epoch 30/100\n",
      "68287/68287 [==============================] - 0s 6us/sample - loss: 0.1686 - val_loss: 0.1701\n",
      "Epoch 31/100\n",
      "68287/68287 [==============================] - 0s 5us/sample - loss: 0.1687 - val_loss: 0.1703\n",
      "Epoch 32/100\n",
      "68287/68287 [==============================] - 0s 5us/sample - loss: 0.1682 - val_loss: 0.1700\n",
      "Epoch 33/100\n",
      "68287/68287 [==============================] - 0s 5us/sample - loss: 0.1683 - val_loss: 0.1705\n",
      "Epoch 34/100\n",
      "68287/68287 [==============================] - 0s 6us/sample - loss: 0.1684 - val_loss: 0.1697\n",
      "Epoch 35/100\n",
      "68287/68287 [==============================] - 0s 5us/sample - loss: 0.1679 - val_loss: 0.1697\n",
      "Epoch 36/100\n",
      "68287/68287 [==============================] - 0s 6us/sample - loss: 0.1683 - val_loss: 0.1700\n",
      "Epoch 37/100\n",
      "68287/68287 [==============================] - 0s 6us/sample - loss: 0.1677 - val_loss: 0.1693\n",
      "Epoch 38/100\n",
      "68287/68287 [==============================] - 0s 6us/sample - loss: 0.1676 - val_loss: 0.1696\n",
      "Epoch 39/100\n",
      "68287/68287 [==============================] - 0s 6us/sample - loss: 0.1672 - val_loss: 0.1695\n",
      "Epoch 40/100\n",
      "68287/68287 [==============================] - 0s 6us/sample - loss: 0.1675 - val_loss: 0.1692\n",
      "Epoch 41/100\n",
      "68287/68287 [==============================] - 0s 6us/sample - loss: 0.1673 - val_loss: 0.1699\n",
      "Epoch 42/100\n",
      "68287/68287 [==============================] - 0s 6us/sample - loss: 0.1671 - val_loss: 0.1696\n",
      "Epoch 43/100\n",
      "68287/68287 [==============================] - 0s 6us/sample - loss: 0.1675 - val_loss: 0.1693\n",
      "Epoch 44/100\n",
      "68287/68287 [==============================] - 0s 6us/sample - loss: 0.1677 - val_loss: 0.1697\n",
      "Epoch 45/100\n",
      "68287/68287 [==============================] - 0s 6us/sample - loss: 0.1676 - val_loss: 0.1691\n",
      "Epoch 46/100\n",
      "68287/68287 [==============================] - 0s 6us/sample - loss: 0.1670 - val_loss: 0.1698\n",
      "Epoch 47/100\n",
      "68287/68287 [==============================] - 0s 6us/sample - loss: 0.1675 - val_loss: 0.1690\n",
      "Epoch 48/100\n",
      "68287/68287 [==============================] - 0s 6us/sample - loss: 0.1673 - val_loss: 0.1692\n",
      "Epoch 49/100\n",
      "68287/68287 [==============================] - 0s 5us/sample - loss: 0.1670 - val_loss: 0.1691\n",
      "Epoch 50/100\n",
      "68287/68287 [==============================] - 0s 5us/sample - loss: 0.1667 - val_loss: 0.1689\n",
      "Epoch 51/100\n",
      "68287/68287 [==============================] - 0s 5us/sample - loss: 0.1668 - val_loss: 0.1695\n",
      "Epoch 52/100\n",
      "68287/68287 [==============================] - 0s 5us/sample - loss: 0.1672 - val_loss: 0.1698\n",
      "Epoch 53/100\n",
      "68287/68287 [==============================] - 0s 6us/sample - loss: 0.1670 - val_loss: 0.1694\n",
      "Epoch 54/100\n",
      "68287/68287 [==============================] - 0s 6us/sample - loss: 0.1671 - val_loss: 0.1692\n",
      "Epoch 55/100\n",
      "68287/68287 [==============================] - 0s 6us/sample - loss: 0.1666 - val_loss: 0.1685\n",
      "Epoch 56/100\n",
      "68287/68287 [==============================] - 0s 6us/sample - loss: 0.1661 - val_loss: 0.1689\n",
      "Epoch 57/100\n",
      "68287/68287 [==============================] - 0s 6us/sample - loss: 0.1664 - val_loss: 0.1683\n",
      "Epoch 58/100\n",
      "68287/68287 [==============================] - 0s 6us/sample - loss: 0.1662 - val_loss: 0.1686\n",
      "Epoch 59/100\n",
      "68287/68287 [==============================] - 0s 5us/sample - loss: 0.1661 - val_loss: 0.1682\n",
      "Epoch 60/100\n",
      "68287/68287 [==============================] - 0s 6us/sample - loss: 0.1656 - val_loss: 0.1690\n",
      "Epoch 61/100\n",
      "68287/68287 [==============================] - 0s 5us/sample - loss: 0.1658 - val_loss: 0.1677\n",
      "Epoch 62/100\n",
      "68287/68287 [==============================] - 0s 5us/sample - loss: 0.1656 - val_loss: 0.1678\n",
      "Epoch 63/100\n",
      "68287/68287 [==============================] - 0s 6us/sample - loss: 0.1655 - val_loss: 0.1680\n",
      "Epoch 64/100\n",
      "68287/68287 [==============================] - 0s 6us/sample - loss: 0.1656 - val_loss: 0.1677\n",
      "Epoch 65/100\n",
      "68287/68287 [==============================] - 0s 6us/sample - loss: 0.1651 - val_loss: 0.1679\n",
      "Epoch 66/100\n",
      "68287/68287 [==============================] - 0s 5us/sample - loss: 0.1653 - val_loss: 0.1679\n",
      "Epoch 67/100\n",
      "68287/68287 [==============================] - 0s 5us/sample - loss: 0.1653 - val_loss: 0.1677\n",
      "Epoch 68/100\n",
      "68287/68287 [==============================] - 0s 5us/sample - loss: 0.1662 - val_loss: 0.1678\n",
      "Epoch 69/100\n",
      "68287/68287 [==============================] - 0s 5us/sample - loss: 0.1658 - val_loss: 0.1681\n",
      "Epoch 70/100\n",
      "68287/68287 [==============================] - 0s 6us/sample - loss: 0.1657 - val_loss: 0.1683\n",
      "Epoch 71/100\n",
      "68287/68287 [==============================] - 0s 5us/sample - loss: 0.1657 - val_loss: 0.1676\n",
      "Epoch 72/100\n",
      "68287/68287 [==============================] - 0s 5us/sample - loss: 0.1650 - val_loss: 0.1677\n",
      "Epoch 73/100\n",
      "68287/68287 [==============================] - 0s 5us/sample - loss: 0.1650 - val_loss: 0.1680\n",
      "Epoch 74/100\n",
      "68287/68287 [==============================] - 0s 5us/sample - loss: 0.1646 - val_loss: 0.1675\n",
      "Epoch 75/100\n",
      "68287/68287 [==============================] - 0s 6us/sample - loss: 0.1646 - val_loss: 0.1675\n",
      "Epoch 76/100\n",
      "68287/68287 [==============================] - 0s 6us/sample - loss: 0.1650 - val_loss: 0.1670\n",
      "Epoch 77/100\n",
      "68287/68287 [==============================] - 0s 5us/sample - loss: 0.1645 - val_loss: 0.1669\n",
      "Epoch 78/100\n",
      "68287/68287 [==============================] - 0s 5us/sample - loss: 0.1642 - val_loss: 0.1669\n",
      "Epoch 79/100\n",
      "68287/68287 [==============================] - 0s 5us/sample - loss: 0.1641 - val_loss: 0.1671\n",
      "Epoch 80/100\n",
      "68287/68287 [==============================] - 0s 5us/sample - loss: 0.1640 - val_loss: 0.1666\n",
      "Epoch 81/100\n",
      "68287/68287 [==============================] - 0s 5us/sample - loss: 0.1637 - val_loss: 0.1669\n",
      "Epoch 82/100\n",
      "68287/68287 [==============================] - 0s 5us/sample - loss: 0.1638 - val_loss: 0.1667\n",
      "Epoch 83/100\n",
      "68287/68287 [==============================] - 0s 5us/sample - loss: 0.1638 - val_loss: 0.1668\n",
      "Epoch 84/100\n",
      "68287/68287 [==============================] - 0s 5us/sample - loss: 0.1642 - val_loss: 0.1667\n",
      "Epoch 85/100\n",
      "68287/68287 [==============================] - 0s 5us/sample - loss: 0.1634 - val_loss: 0.1664\n",
      "Epoch 86/100\n",
      "68287/68287 [==============================] - 0s 5us/sample - loss: 0.1633 - val_loss: 0.1661\n",
      "Epoch 87/100\n",
      "68287/68287 [==============================] - 0s 5us/sample - loss: 0.1635 - val_loss: 0.1662\n",
      "Epoch 88/100\n",
      "68287/68287 [==============================] - 0s 6us/sample - loss: 0.1634 - val_loss: 0.1664\n",
      "Epoch 89/100\n",
      "68287/68287 [==============================] - 0s 5us/sample - loss: 0.1635 - val_loss: 0.1665\n",
      "Epoch 90/100\n",
      "68287/68287 [==============================] - 0s 5us/sample - loss: 0.1635 - val_loss: 0.1668\n",
      "Epoch 91/100\n",
      "68287/68287 [==============================] - 0s 5us/sample - loss: 0.1636 - val_loss: 0.1665\n",
      "Epoch 92/100\n",
      "68287/68287 [==============================] - 0s 5us/sample - loss: 0.1635 - val_loss: 0.1686\n",
      "Epoch 93/100\n",
      "68287/68287 [==============================] - 0s 5us/sample - loss: 0.1638 - val_loss: 0.1661\n",
      "Epoch 94/100\n",
      "68287/68287 [==============================] - 0s 5us/sample - loss: 0.1633 - val_loss: 0.1666\n",
      "Epoch 95/100\n",
      "68287/68287 [==============================] - 0s 5us/sample - loss: 0.1636 - val_loss: 0.1663\n",
      "Epoch 96/100\n",
      "68287/68287 [==============================] - 0s 5us/sample - loss: 0.1632 - val_loss: 0.1669\n",
      "Epoch 97/100\n",
      "68287/68287 [==============================] - 0s 5us/sample - loss: 0.1633 - val_loss: 0.1663\n",
      "Epoch 98/100\n",
      "68287/68287 [==============================] - 0s 5us/sample - loss: 0.1635 - val_loss: 0.1666\n",
      "Epoch 99/100\n",
      "68287/68287 [==============================] - 0s 6us/sample - loss: 0.1638 - val_loss: 0.1667\n",
      "Epoch 100/100\n",
      "68287/68287 [==============================] - 0s 5us/sample - loss: 0.1635 - val_loss: 0.1666\n"
     ]
    },
    {
     "data": {
      "text/plain": [
       "<tensorflow.python.keras.callbacks.History at 0x22e9081b9c8>"
      ]
     },
     "execution_count": 87,
     "metadata": {},
     "output_type": "execute_result"
    }
   ],
   "source": [
    "EPOCHS = 100\n",
    "BATCH_SIZE = 1024\n",
    "\n",
    "autoencoder.fit(X_train, X_train, validation_data=(X_val, X_val), epochs=EPOCHS, batch_size=BATCH_SIZE)"
   ]
  },
  {
   "cell_type": "code",
   "execution_count": 93,
   "metadata": {
    "jupyter": {
     "source_hidden": true
    }
   },
   "outputs": [],
   "source": [
    "X_pred = autoencoder.predict(X_test)\n",
    "MSE = np.average((X_pred - X_test)**2, axis=1)\n",
    "\n",
    "df_index = original_index[train_ix+1:]\n",
    "\n",
    "result = pd.DataFrame(MSE, index=df_index, columns=['Error'])\n",
    "result = result.join(anomalies).reset_index(drop=True)\n",
    "anomalies_result = result.dropna()\n",
    "\n",
    "annomalies = data.loc[anomalies_list]\n",
    "annomalies = scaler.transform(annomalies)\n",
    "annomalies_pred = autoencoder(annomalies)\n",
    "annomalies_error = np.average((annomalies_pred - annomalies)**2, axis=1)"
   ]
  },
  {
   "cell_type": "code",
   "execution_count": 68,
   "metadata": {
    "collapsed": true,
    "jupyter": {
     "outputs_hidden": true,
     "source_hidden": true
    }
   },
   "outputs": [
    {
     "data": {
      "text/plain": [
       "<matplotlib.collections.PathCollection at 0x22e90667488>"
      ]
     },
     "execution_count": 68,
     "metadata": {},
     "output_type": "execute_result"
    },
    {
     "data": {
      "image/png": "[encoded data removed]",
      "text/plain": [
       "<Figure size 432x288 with 1 Axes>"
      ]
     },
     "metadata": {
      "needs_background": "light"
     },
     "output_type": "display_data"
    }
   ],
   "source": [
    "plt.plot(result.index, result.Error)\n",
    "plt.scatter(anomalies_result.index, anomalies_result.Error, color='red')"
   ]
  },
  {
   "cell_type": "markdown",
   "metadata": {},
   "source": [
    "#### Variational Autoencoder"
   ]
  },
  {
   "cell_type": "code",
   "execution_count": 100,
   "metadata": {},
   "outputs": [],
   "source": [
    "data = pd.read_csv('data/clean_dataset.csv')\n",
    "data = data.set_index('original_index')"
   ]
  },
  {
   "cell_type": "code",
   "execution_count": 101,
   "metadata": {},
   "outputs": [],
   "source": [
    "TRAIN_SPLIT = 0.8\n",
    "VAL_SPLIT = 0.8\n",
    "\n",
    "anomalies_ix = np.array([10634, 36136, 57280, 57618, 60545, 63144, 118665, 128524, 131118])\n",
    "\n",
    "data = data.diff().ffill().dropna()\n",
    "annomaly_set = data.loc[anomalies_ix]\n",
    "\n",
    "data = data.drop(anomalies_ix)\n",
    "data_length = len(data)\n",
    "\n",
    "TRAIN_VAL_IX = int(data_length*TRAIN_SPLIT)\n",
    "VAL_IX = int(TRAIN_VAL_IX * VAL_SPLIT)\n",
    "\n",
    "train_set = data[:VAL_IX]\n",
    "val_set = data[VAL_IX:TRAIN_VAL_IX]\n",
    "test_set = data[TRAIN_VAL_IX:]\n",
    "\n",
    "train_ix = train_set.index\n",
    "val_ix = val_set.index\n",
    "test_ix = test_set.index\n",
    "\n",
    "scaler = StandardScaler()\n",
    "\n",
    "train_set = scaler.fit_transform(train_set)\n",
    "val_set = scaler.transform(val_set)\n",
    "test_set = scaler.transform(test_set)\n",
    "annomaly_set = scaler.transform(annomaly_set)"
   ]
  },
  {
   "cell_type": "code",
   "execution_count": 102,
   "metadata": {},
   "outputs": [],
   "source": [
    "LATENT_SIZE = 2\n",
    "HIDDEN_SIZE0 = 256\n",
    "HIDDEN_SIZE1 = 64\n",
    "FEATURE_NO = train_set.shape[1]\n",
    "\n",
    "tfd = tfp.distributions\n",
    "prior = tfd.Independent(tfd.Normal(loc=tf.zeros(LATENT_SIZE), scale=1), reinterpreted_batch_ndims=1)\n",
    "\n",
    "encoder = tf.keras.Sequential()\n",
    "encoder.add(tf.keras.layers.Dense(HIDDEN_SIZE0, activation='relu', input_shape=(FEATURE_NO, )))\n",
    "encoder.add(tf.keras.layers.Dense(HIDDEN_SIZE1, activation='relu'))\n",
    "encoder.add(tf.keras.layers.Dense(tfp.layers.MultivariateNormalTriL.params_size(LATENT_SIZE), activation=None))\n",
    "encoder.add(tfp.layers.MultivariateNormalTriL(LATENT_SIZE, activity_regularizer=tfp.layers.KLDivergenceRegularizer(prior)))\n",
    "\n",
    "decoder = tf.keras.Sequential()\n",
    "decoder.add(tf.keras.layers.Dense(HIDDEN_SIZE1, activation='relu', input_shape=(LATENT_SIZE,)))\n",
    "decoder.add(tf.keras.layers.Dense(HIDDEN_SIZE0, activation='relu'))\n",
    "decoder.add(tf.keras.layers.Dense(FEATURE_NO*2, activation='linear'))\n",
    "decoder.add(tfp.layers.DistributionLambda(lambda t : tfp.distributions.Normal(loc=t[...,:FEATURE_NO], scale=tf.math.softplus(t[...,FEATURE_NO:]))))\n",
    "\n",
    "vae = tf.keras.Model(inputs=encoder.inputs, outputs=decoder(encoder.outputs[0]))\n",
    "\n",
    "negative_log_likelihood = lambda x, rv_x: -rv_x.log_prob(x)\n",
    "vae.compile(optimizer=tf.keras.optimizers.Adam(lr=0.001), loss=negative_log_likelihood)"
   ]
  },
  {
   "cell_type": "code",
   "execution_count": 324,
   "metadata": {},
   "outputs": [
    {
     "name": "stdout",
     "output_type": "stream",
     "text": [
      "Train on 68288 samples, validate on 68288 samples\n",
      "Epoch 1/100\n",
      "68288/68288 [==============================] - 1s 11us/sample - loss: 0.2790 - val_loss: 0.2748\n",
      "Epoch 2/100\n",
      "68288/68288 [==============================] - 1s 11us/sample - loss: 0.2939 - val_loss: 0.2934\n",
      "Epoch 3/100\n",
      "68288/68288 [==============================] - 1s 10us/sample - loss: 0.2891 - val_loss: 0.2804\n",
      "Epoch 4/100\n",
      "68288/68288 [==============================] - 1s 10us/sample - loss: 0.2791 - val_loss: 0.2876\n",
      "Epoch 5/100\n",
      "68288/68288 [==============================] - 1s 10us/sample - loss: 0.2785 - val_loss: 0.2747\n",
      "Epoch 6/100\n",
      "68288/68288 [==============================] - 1s 10us/sample - loss: 0.2736 - val_loss: 0.2731\n",
      "Epoch 7/100\n",
      "68288/68288 [==============================] - 1s 10us/sample - loss: 0.2740 - val_loss: 0.2715\n",
      "Epoch 8/100\n",
      "68288/68288 [==============================] - 1s 10us/sample - loss: 0.2767 - val_loss: 0.2739\n",
      "Epoch 9/100\n",
      "68288/68288 [==============================] - 1s 10us/sample - loss: 0.2722 - val_loss: 0.2753\n",
      "Epoch 10/100\n",
      "68288/68288 [==============================] - 1s 10us/sample - loss: 0.2730 - val_loss: 0.2721\n",
      "Epoch 11/100\n",
      "68288/68288 [==============================] - 1s 10us/sample - loss: 0.2942 - val_loss: 0.2931\n",
      "Epoch 12/100\n",
      "68288/68288 [==============================] - 1s 10us/sample - loss: 0.2827 - val_loss: 0.2746\n",
      "Epoch 13/100\n",
      "68288/68288 [==============================] - 1s 11us/sample - loss: 0.2735 - val_loss: 0.2735\n",
      "Epoch 14/100\n",
      "68288/68288 [==============================] - 1s 10us/sample - loss: 0.2718 - val_loss: 0.2718\n",
      "Epoch 15/100\n",
      "68288/68288 [==============================] - 1s 10us/sample - loss: 0.2719 - val_loss: 0.2694\n",
      "Epoch 16/100\n",
      "68288/68288 [==============================] - 1s 10us/sample - loss: 0.2726 - val_loss: 0.2683\n",
      "Epoch 17/100\n",
      "68288/68288 [==============================] - 1s 10us/sample - loss: 0.2710 - val_loss: 0.2876\n",
      "Epoch 18/100\n",
      "68288/68288 [==============================] - 1s 10us/sample - loss: 0.2705 - val_loss: 0.2687\n",
      "Epoch 19/100\n",
      "68288/68288 [==============================] - 1s 10us/sample - loss: 0.2760 - val_loss: 0.2726\n",
      "Epoch 20/100\n",
      "68288/68288 [==============================] - 1s 11us/sample - loss: 0.2778 - val_loss: 0.2732\n",
      "Epoch 21/100\n",
      "68288/68288 [==============================] - 1s 10us/sample - loss: 0.2720 - val_loss: 0.2695\n",
      "Epoch 22/100\n",
      "68288/68288 [==============================] - 1s 10us/sample - loss: 0.2687 - val_loss: 0.2850\n",
      "Epoch 23/100\n",
      "68288/68288 [==============================] - 1s 10us/sample - loss: 0.2690 - val_loss: 0.2700\n",
      "Epoch 24/100\n",
      "68288/68288 [==============================] - 1s 11us/sample - loss: 0.3070 - val_loss: 0.3259\n",
      "Epoch 25/100\n",
      "68288/68288 [==============================] - 1s 10us/sample - loss: 0.3200 - val_loss: 0.3073\n",
      "Epoch 26/100\n",
      "68288/68288 [==============================] - 1s 10us/sample - loss: 0.2977 - val_loss: 0.2914\n",
      "Epoch 27/100\n",
      "68288/68288 [==============================] - 1s 10us/sample - loss: 0.2841 - val_loss: 0.2802\n",
      "Epoch 28/100\n",
      "68288/68288 [==============================] - 1s 10us/sample - loss: 0.2795 - val_loss: 0.2775\n",
      "Epoch 29/100\n",
      "68288/68288 [==============================] - 1s 10us/sample - loss: 0.2739 - val_loss: 0.2717\n",
      "Epoch 30/100\n",
      "68288/68288 [==============================] - 1s 10us/sample - loss: 0.2754 - val_loss: 0.2755\n",
      "Epoch 31/100\n",
      "68288/68288 [==============================] - 1s 10us/sample - loss: 0.2771 - val_loss: 0.2744\n",
      "Epoch 32/100\n",
      "68288/68288 [==============================] - 1s 10us/sample - loss: 0.2706 - val_loss: 0.2726\n",
      "Epoch 33/100\n",
      "68288/68288 [==============================] - 1s 10us/sample - loss: 0.2712 - val_loss: 0.2707\n",
      "Epoch 34/100\n",
      "68288/68288 [==============================] - 1s 10us/sample - loss: 0.2729 - val_loss: 0.2746\n",
      "Epoch 35/100\n",
      "68288/68288 [==============================] - 1s 10us/sample - loss: 0.2741 - val_loss: 0.2704\n",
      "Epoch 36/100\n",
      "68288/68288 [==============================] - 1s 11us/sample - loss: 0.2748 - val_loss: 0.2902\n",
      "Epoch 37/100\n",
      "68288/68288 [==============================] - 1s 10us/sample - loss: 0.2687 - val_loss: 0.2804\n",
      "Epoch 38/100\n",
      "68288/68288 [==============================] - 1s 11us/sample - loss: 0.2745 - val_loss: 0.2757\n",
      "Epoch 39/100\n",
      "68288/68288 [==============================] - 1s 10us/sample - loss: 0.2879 - val_loss: 0.2938\n",
      "Epoch 40/100\n",
      "68288/68288 [==============================] - 1s 10us/sample - loss: 0.2865 - val_loss: 0.2784\n",
      "Epoch 41/100\n",
      "68288/68288 [==============================] - 1s 10us/sample - loss: 0.2766 - val_loss: 0.2890\n",
      "Epoch 42/100\n",
      "68288/68288 [==============================] - 1s 10us/sample - loss: 0.2784 - val_loss: 0.2746\n",
      "Epoch 43/100\n",
      "68288/68288 [==============================] - 1s 11us/sample - loss: 0.2741 - val_loss: 0.2767\n",
      "Epoch 44/100\n",
      "68288/68288 [==============================] - 1s 11us/sample - loss: 0.2736 - val_loss: 0.2751\n",
      "Epoch 45/100\n",
      "68288/68288 [==============================] - 1s 10us/sample - loss: 0.2691 - val_loss: 0.2744\n",
      "Epoch 46/100\n",
      "68288/68288 [==============================] - 1s 11us/sample - loss: 0.2734 - val_loss: 0.2729\n",
      "Epoch 47/100\n",
      "68288/68288 [==============================] - 1s 10us/sample - loss: 0.2703 - val_loss: 0.2690\n",
      "Epoch 48/100\n",
      "68288/68288 [==============================] - 1s 10us/sample - loss: 0.2709 - val_loss: 0.2795\n",
      "Epoch 49/100\n",
      "68288/68288 [==============================] - 1s 10us/sample - loss: 0.2770 - val_loss: 0.2962\n",
      "Epoch 50/100\n",
      "68288/68288 [==============================] - 1s 10us/sample - loss: 0.2783 - val_loss: 0.2724\n",
      "Epoch 51/100\n",
      "68288/68288 [==============================] - 1s 10us/sample - loss: 0.2736 - val_loss: 0.2954\n",
      "Epoch 52/100\n",
      "68288/68288 [==============================] - 1s 10us/sample - loss: 0.3097 - val_loss: 0.3141\n",
      "Epoch 53/100\n",
      "68288/68288 [==============================] - 1s 11us/sample - loss: 0.3090 - val_loss: 0.2968\n",
      "Epoch 54/100\n",
      "68288/68288 [==============================] - 1s 10us/sample - loss: 0.2885 - val_loss: 0.2796\n",
      "Epoch 55/100\n",
      "68288/68288 [==============================] - 1s 11us/sample - loss: 0.2781 - val_loss: 0.2728\n",
      "Epoch 56/100\n",
      "68288/68288 [==============================] - 1s 10us/sample - loss: 0.2727 - val_loss: 0.2719\n",
      "Epoch 57/100\n",
      "68288/68288 [==============================] - 1s 10us/sample - loss: 0.2776 - val_loss: 0.2708\n",
      "Epoch 58/100\n",
      "68288/68288 [==============================] - 1s 10us/sample - loss: 0.2733 - val_loss: 0.2672\n",
      "Epoch 59/100\n",
      "68288/68288 [==============================] - 1s 11us/sample - loss: 0.3386 - val_loss: 0.3231\n",
      "Epoch 60/100\n",
      "68288/68288 [==============================] - 1s 10us/sample - loss: 0.3191 - val_loss: 0.3035\n",
      "Epoch 61/100\n",
      "68288/68288 [==============================] - 1s 10us/sample - loss: 0.2994 - val_loss: 0.2945\n",
      "Epoch 62/100\n",
      "68288/68288 [==============================] - 1s 10us/sample - loss: 0.2908 - val_loss: 0.2840\n",
      "Epoch 63/100\n",
      "68288/68288 [==============================] - 1s 10us/sample - loss: 0.2778 - val_loss: 0.2771\n",
      "Epoch 64/100\n",
      "68288/68288 [==============================] - 1s 10us/sample - loss: 0.2749 - val_loss: 0.2715\n",
      "Epoch 65/100\n",
      "68288/68288 [==============================] - 1s 10us/sample - loss: 0.2769 - val_loss: 0.2742\n",
      "Epoch 66/100\n",
      "68288/68288 [==============================] - 1s 10us/sample - loss: 0.2723 - val_loss: 0.2696\n",
      "Epoch 67/100\n",
      "68288/68288 [==============================] - 1s 10us/sample - loss: 0.2727 - val_loss: 0.2750\n",
      "Epoch 68/100\n",
      "68288/68288 [==============================] - 1s 10us/sample - loss: 0.2710 - val_loss: 0.2704\n",
      "Epoch 69/100\n",
      "68288/68288 [==============================] - 1s 10us/sample - loss: 0.2747 - val_loss: 0.2700\n",
      "Epoch 70/100\n",
      "68288/68288 [==============================] - 1s 10us/sample - loss: 0.2731 - val_loss: 0.2736\n",
      "Epoch 71/100\n",
      "68288/68288 [==============================] - 1s 10us/sample - loss: 0.2714 - val_loss: 0.2736\n",
      "Epoch 72/100\n",
      "68288/68288 [==============================] - 1s 10us/sample - loss: 0.2713 - val_loss: 0.2725\n",
      "Epoch 73/100\n",
      "68288/68288 [==============================] - 1s 10us/sample - loss: 0.2722 - val_loss: 0.2798\n",
      "Epoch 74/100\n",
      "68288/68288 [==============================] - 1s 10us/sample - loss: 0.3019 - val_loss: 0.3044\n",
      "Epoch 75/100\n",
      "68288/68288 [==============================] - 1s 11us/sample - loss: 0.3384 - val_loss: 0.3166\n",
      "Epoch 76/100\n",
      "68288/68288 [==============================] - 1s 11us/sample - loss: 0.2925 - val_loss: 0.2927\n",
      "Epoch 77/100\n",
      "68288/68288 [==============================] - 1s 10us/sample - loss: 0.2788 - val_loss: 0.2751\n",
      "Epoch 78/100\n",
      "68288/68288 [==============================] - 1s 10us/sample - loss: 0.2764 - val_loss: 0.2709\n",
      "Epoch 79/100\n",
      "68288/68288 [==============================] - 1s 10us/sample - loss: 0.3130 - val_loss: 0.2990\n",
      "Epoch 80/100\n",
      "68288/68288 [==============================] - 1s 10us/sample - loss: 0.2984 - val_loss: 0.2997\n",
      "Epoch 81/100\n",
      "68288/68288 [==============================] - 1s 10us/sample - loss: 0.2986 - val_loss: 0.2911\n",
      "Epoch 82/100\n",
      "68288/68288 [==============================] - 1s 10us/sample - loss: 0.2892 - val_loss: 0.2833\n",
      "Epoch 83/100\n",
      "68288/68288 [==============================] - 1s 10us/sample - loss: 0.2805 - val_loss: 0.2799\n",
      "Epoch 84/100\n",
      "68288/68288 [==============================] - 1s 10us/sample - loss: 0.2768 - val_loss: 0.2758\n",
      "Epoch 85/100\n",
      "68288/68288 [==============================] - 1s 10us/sample - loss: 0.2755 - val_loss: 0.2716\n",
      "Epoch 86/100\n",
      "68288/68288 [==============================] - 1s 11us/sample - loss: 0.2745 - val_loss: 0.2740\n",
      "Epoch 87/100\n",
      "68288/68288 [==============================] - 1s 10us/sample - loss: 0.3198 - val_loss: 0.2882\n",
      "Epoch 88/100\n",
      "68288/68288 [==============================] - 1s 10us/sample - loss: 0.2974 - val_loss: 0.2979\n",
      "Epoch 89/100\n",
      "68288/68288 [==============================] - 1s 10us/sample - loss: 0.2892 - val_loss: 0.2817\n",
      "Epoch 90/100\n",
      "68288/68288 [==============================] - 1s 10us/sample - loss: 0.2818 - val_loss: 0.2775\n",
      "Epoch 91/100\n",
      "68288/68288 [==============================] - 1s 10us/sample - loss: 0.2837 - val_loss: 0.2804\n",
      "Epoch 92/100\n",
      "68288/68288 [==============================] - 1s 10us/sample - loss: 0.2771 - val_loss: 0.2763\n",
      "Epoch 93/100\n",
      "68288/68288 [==============================] - 1s 10us/sample - loss: 0.2753 - val_loss: 0.2726\n",
      "Epoch 94/100\n",
      "68288/68288 [==============================] - 1s 10us/sample - loss: 0.2712 - val_loss: 0.2721\n",
      "Epoch 95/100\n",
      "68288/68288 [==============================] - 1s 10us/sample - loss: 0.2735 - val_loss: 0.2725\n",
      "Epoch 96/100\n",
      "68288/68288 [==============================] - 1s 11us/sample - loss: 0.2706 - val_loss: 0.2675\n",
      "Epoch 97/100\n",
      "68288/68288 [==============================] - 1s 10us/sample - loss: 0.2725 - val_loss: 0.2739\n",
      "Epoch 98/100\n",
      "68288/68288 [==============================] - 1s 10us/sample - loss: 0.2757 - val_loss: 0.2794\n",
      "Epoch 99/100\n",
      "68288/68288 [==============================] - 1s 10us/sample - loss: 0.2779 - val_loss: 0.2717\n",
      "Epoch 100/100\n",
      "68288/68288 [==============================] - 1s 10us/sample - loss: 0.2717 - val_loss: 0.2675\n"
     ]
    },
    {
     "data": {
      "text/plain": [
       "<tensorflow.python.keras.callbacks.History at 0x28c838b1c48>"
      ]
     },
     "execution_count": 324,
     "metadata": {},
     "output_type": "execute_result"
    }
   ],
   "source": [
    "EPOCHS = 100\n",
    "BATCH_SIZE = 1024\n",
    "\n",
    "vae.fit(train_set, train_set, batch_size=BATCH_SIZE, epochs=EPOCHS, shuffle=True, validation_data=(train_set, train_set))"
   ]
  },
  {
   "cell_type": "code",
   "execution_count": 398,
   "metadata": {},
   "outputs": [],
   "source": [
    "train_encoded = encoder(train_set)\n",
    "train_decoded = decoder(train_encoded)\n",
    "\n",
    "val_encoded = encoder(val_set)\n",
    "val_decoded = decoder(val_encoded)\n",
    "\n",
    "annomaly_encoded = encoder(annomaly_set)\n",
    "annomaly_decoded = decoder(annomaly_encoded)\n",
    "\n",
    "test_encoded = encoder(test_set)\n",
    "test_decoded = decoder(test_encoded)"
   ]
  },
  {
   "cell_type": "code",
   "execution_count": 483,
   "metadata": {},
   "outputs": [
    {
     "data": {
      "image/png": "[encoded data removed]",
      "text/plain": [
       "<Figure size 432x288 with 1 Axes>"
      ]
     },
     "metadata": {
      "needs_background": "light"
     },
     "output_type": "display_data"
    }
   ],
   "source": [
    "plt.scatter(test_encoded.mean()[:, 0], test_encoded.mean()[:, 1], s=0.2)\n",
    "plt.scatter(annomaly_encoded.mean()[:, 0], annomaly_encoded.mean()[:, 1], s=50.0, color='red', marker='x', label='Anomaly')\n",
    "\n",
    "plt.xlim(-0.5, 2.5)\n",
    "plt.ylim(-2, 0.5)\n",
    "\n",
    "plt.title('Latent Vector Mean Decomposition')\n",
    "plt.xlabel('Component 0')\n",
    "plt.ylabel('Component 1')\n",
    "\n",
    "plt.grid(alpha=0.3)\n",
    "plt.legend()\n",
    "\n",
    "plt.tight_layout()\n",
    "plt.savefig('decomposition.png', bbox_inches='tight')\n",
    "plt.show()"
   ]
  },
  {
   "cell_type": "code",
   "execution_count": 498,
   "metadata": {},
   "outputs": [
    {
     "data": {
      "text/plain": [
       "KMeans(algorithm='auto', copy_x=True, init='k-means++', max_iter=300,\n",
       "       n_clusters=2, n_init=10, n_jobs=None, precompute_distances='auto',\n",
       "       random_state=0, tol=0.0001, verbose=0)"
      ]
     },
     "execution_count": 498,
     "metadata": {},
     "output_type": "execute_result"
    }
   ],
   "source": [
    "kmeans = KMeans(n_clusters=2, random_state=0)\n",
    "kmeans.fit(train_encoded.mean())"
   ]
  },
  {
   "cell_type": "code",
   "execution_count": 629,
   "metadata": {},
   "outputs": [],
   "source": [
    "test_cdf = ((test_set - test_decoded.mean())/test_decoded.stddev()).numpy()\n",
    "annomaly_cdf = ((annomaly_set - annomaly_decoded.mean())/annomaly_decoded.stddev()).numpy()"
   ]
  },
  {
   "cell_type": "code",
   "execution_count": 618,
   "metadata": {},
   "outputs": [],
   "source": [
    "n = 3\n",
    "COLUMN_MAP = {key: value for key, value in zip([i for i in range(len(data.columns.values))], data.columns.values)}\n",
    "\n",
    "test_cdf_ix = pd.DataFrame((-test_cdf).argsort(axis=-1)[:, :n], index=test_ix, columns=['Rank1', 'Rank2', 'Rank3'])\n",
    "annomaly_cdf_ix = pd.DataFrame((-annomaly_cdf).argsort(axis=-1)[:, :n], index=anomalies_ix, columns=['Rank1', 'Rank2', 'Rank3'])\n",
    "\n",
    "test_cdf_ix['Rank1'] = test_cdf_ix['Rank1'].map(COLUMN_MAP)\n",
    "test_cdf_ix['Rank2'] = test_cdf_ix['Rank2'].map(COLUMN_MAP)\n",
    "test_cdf_ix['Rank3'] = test_cdf_ix['Rank3'].map(COLUMN_MAP)\n",
    "\n",
    "annomaly_cdf_ix['Rank1'] = annomaly_cdf_ix['Rank1'].map(COLUMN_MAP)\n",
    "annomaly_cdf_ix['Rank2'] = annomaly_cdf_ix['Rank2'].map(COLUMN_MAP)\n",
    "annomaly_cdf_ix['Rank3'] = annomaly_cdf_ix['Rank3'].map(COLUMN_MAP)\n",
    "\n",
    "test_predition = pd.DataFrame(kmeans.predict(test_encoded.mean()), index=test_ix, columns=['Annomaly'])\n",
    "annomaly_predition = pd.DataFrame(kmeans.predict(annomaly_encoded.mean()), index=anomalies_ix, columns=['Annomaly'])\n",
    "\n",
    "all_test = test_predition.join(test_cdf_ix)\n",
    "all_annom = annomaly_predition.join(annomaly_cdf_ix)"
   ]
  },
  {
   "cell_type": "code",
   "execution_count": 572,
   "metadata": {},
   "outputs": [],
   "source": [
    "full_data = pd.concat([all_test, all_annom]).sort_index()[6:]"
   ]
  },
  {
   "cell_type": "code",
   "execution_count": 574,
   "metadata": {},
   "outputs": [],
   "source": [
    "full_data.to_csv('results.csv')"
   ]
  },
  {
   "cell_type": "code",
   "execution_count": 601,
   "metadata": {},
   "outputs": [
    {
     "data": {
      "image/png": "[encoded data removed]",
      "text/plain": [
       "<Figure size 432x288 with 1 Axes>"
      ]
     },
     "metadata": {
      "needs_background": "light"
     },
     "output_type": "display_data"
    }
   ],
   "source": [
    "plt.scatter(test_encoded.mean()[:, 0], test_encoded.mean()[:, 1], s=0.2, c=kmeans.predict(test_encoded.mean()), cmap='cividis')\n",
    "plt.scatter(annomaly_encoded.mean()[:, 0], annomaly_encoded.mean()[:, 1], s=50.0, color='red', marker='x', label='Anomaly')\n",
    "\n",
    "plt.xlim(-0.5, 2.5)\n",
    "plt.ylim(-2, 0.5)\n",
    "\n",
    "plt.title('Latent Vector Mean Decomposition')\n",
    "plt.xlabel('Component 0')\n",
    "plt.ylabel('Component 1')\n",
    "\n",
    "plt.scatter([-0.02175249, 1.66804396], [0.03367793, -1.38568922], s=200, alpha=0.5, color='gray', label='Cluster Center')\n",
    "\n",
    "plt.grid(alpha=0.3)\n",
    "plt.legend()\n",
    "\n",
    "plt.tight_layout()\n",
    "plt.savefig('decomposition.png', bbox_inches='tight')\n",
    "plt.show()"
   ]
  }
 ],
 "metadata": {
  "kernelspec": {
   "display_name": "Python [conda env:aihack]",
   "language": "python",
   "name": "conda-env-aihack-py"
  },
  "language_info": {
   "codemirror_mode": {
    "name": "ipython",
    "version": 3
   },
   "file_extension": ".py",
   "mimetype": "text/x-python",
   "name": "python",
   "nbconvert_exporter": "python",
   "pygments_lexer": "ipython3",
   "version": "3.7.6"
  }
 },
 "nbformat": 4,
 "nbformat_minor": 4
}
